{
  "cells": [
    {
      "cell_type": "markdown",
      "source": [
        "### Import dependencies"
      ],
      "metadata": {
        "nteract": {
          "transient": {
            "deleting": false
          }
        }
      }
    },
    {
      "cell_type": "code",
      "source": [
        "import numpy as np\n",
        "import pandas as pd\n",
        "from azureml.core import Workspace\n",
        "import os\n",
        "import io\n",
        "from azure.storage.blob import BlobServiceClient\n",
        "from dotenv import load_dotenv\n",
        "load_dotenv()\n"
      ],
      "outputs": [
        {
          "output_type": "execute_result",
          "execution_count": 1,
          "data": {
            "text/plain": "True"
          },
          "metadata": {}
        }
      ],
      "execution_count": 1,
      "metadata": {
        "gather": {
          "logged": 1722918602050
        }
      }
    },
    {
      "cell_type": "markdown",
      "source": [
        "### Load Train and Test Data"
      ],
      "metadata": {
        "nteract": {
          "transient": {
            "deleting": false
          }
        }
      }
    },
    {
      "cell_type": "code",
      "source": [
        "def save_dataframe_to_blob(dataframe, container_name, blob_name):\n",
        "    # Get connection string from environment variables\n",
        "    connection_string = os.getenv('connection_string')\n",
        "    if not connection_string:\n",
        "        raise ValueError(\"connection_string is not set in the .env file\")\n",
        "    # Initialize BlobServiceClient\n",
        "    try:\n",
        "        blob_service_client = BlobServiceClient.from_connection_string(connection_string)\n",
        "        print(\"Successfully connected to Azure Blob Storage.\")\n",
        "    except ValueError as e:\n",
        "        print(f\"Error initializing BlobServiceClient: {e}\")\n",
        "        raise\n",
        "    # Ensure the container exists\n",
        "    try:\n",
        "        container_client = blob_service_client.get_container_client(container_name)\n",
        "        if not container_client.exists():\n",
        "            container_client.create_container()\n",
        "            print(f\"Created container: {container_name}\")\n",
        "        else:\n",
        "            print(f\"Container {container_name} already exists.\")\n",
        "    except Exception as e:\n",
        "        print(f\"Error creating/getting container client: {e}\")\n",
        "        raise\n",
        "    # Convert dataframe to CSV string\n",
        "    csv_data = dataframe.to_csv(index=False)\n",
        "    # Upload CSV string to blob storage\n",
        "    try:\n",
        "        blob_client = container_client.get_blob_client(blob_name)\n",
        "        blob_client.upload_blob(csv_data, overwrite=True)\n",
        "        print(f\"Uploaded {blob_name} to blob storage in container {container_name}\")\n",
        "    except Exception as e:\n",
        "        print(f\"Error uploading blob: {e}\")\n",
        "        raise\n",
        "\n",
        "\n",
        "def load_dataframe_from_blob(container_name, blob_name):\n",
        "    \"\"\"\n",
        "    Loads a CSV file from Azure Blob Storage into a Pandas DataFrame.\n",
        "    Args:\n",
        "        container_name (str): The name of the Azure Blob Storage container.\n",
        "        blob_name (str): The name of the blob to download.\n",
        "    Returns:\n",
        "        pandas.DataFrame: The loaded DataFrame.\n",
        "    \"\"\"\n",
        "    # Get connection string from environment variables\n",
        "    connection_string = os.getenv('connection_string')\n",
        "    if not connection_string:\n",
        "        raise ValueError(\"connection_string is not set in the .env file\")\n",
        "    # Initialize BlobServiceClient\n",
        "    try:\n",
        "        blob_service_client = BlobServiceClient.from_connection_string(connection_string)\n",
        "        print(\"Successfully connected to Azure Blob Storage.\")\n",
        "    except ValueError as e:\n",
        "        print(f\"Error initializing BlobServiceClient: {e}\")\n",
        "        raise\n",
        "    # Get blob client\n",
        "    try:\n",
        "        blob_client = blob_service_client.get_blob_client(container=container_name, blob=blob_name)\n",
        "    except Exception as e:\n",
        "        print(f\"Error getting blob client: {e}\")\n",
        "        raise\n",
        "    # Download blob content to a byte stream\n",
        "    download_stream = blob_client.download_blob()\n",
        "    blob_data = download_stream.readall()\n",
        "    # Create a Pandas DataFrame from the byte stream\n",
        "    df = pd.read_csv(io.BytesIO(blob_data))\n",
        "    return df"
      ],
      "outputs": [],
      "execution_count": 2,
      "metadata": {
        "gather": {
          "logged": 1722918602377
        },
        "jupyter": {
          "outputs_hidden": false,
          "source_hidden": false
        },
        "nteract": {
          "transient": {
            "deleting": false
          }
        }
      }
    },
    {
      "cell_type": "code",
      "source": [
        "connection_string = os.getenv('connection_string')\n",
        "container_name = os.getenv('container_name')\n",
        "blob_name = os.getenv('train_blob_name')"
      ],
      "outputs": [],
      "execution_count": 3,
      "metadata": {
        "gather": {
          "logged": 1722918602627
        },
        "jupyter": {
          "outputs_hidden": false,
          "source_hidden": false
        },
        "nteract": {
          "transient": {
            "deleting": false
          }
        }
      }
    },
    {
      "cell_type": "code",
      "source": [
        "df_train = load_dataframe_from_blob(container_name, blob_name)\n",
        "print(df_train.shape)\n",
        "print('')\n",
        "df_train.head()"
      ],
      "outputs": [
        {
          "output_type": "stream",
          "name": "stdout",
          "text": "Successfully connected to Azure Blob Storage.\n(455401, 25)\n\n"
        },
        {
          "output_type": "execute_result",
          "execution_count": 4,
          "data": {
            "text/plain": "                                UserID  basket_icon_click  basket_add_list  \\\n0  a720-6b732349-a720-4862-bd21-644732                  0                0   \n1  a0c0-6b73247c-a0c0-4bd9-8baa-797356                  0                0   \n2  86a8-6b735c67-86a8-407b-ba24-333055                  0                0   \n3  6a3d-6b736346-6a3d-4085-934b-396834                  0                0   \n4  b74a-6b737717-b74a-45c3-8c6a-421140                  0                1   \n\n   basket_add_detail  sort_by  image_picker  account_page_click  \\\n0                  0        0             0                   0   \n1                  0        0             0                   0   \n2                  0        0             0                   0   \n3                  0        0             0                   0   \n4                  0        1             0                   0   \n\n   promo_banner_click  detail_wishlist_add  list_size_dropdown  ...  \\\n0                   0                    0                   0  ...   \n1                   0                    0                   0  ...   \n2                   0                    0                   0  ...   \n3                   0                    0                   0  ...   \n4                   0                    0                   1  ...   \n\n   saw_sizecharts  saw_delivery  saw_account_upgrade  saw_homepage  \\\n0               0             0                    0             0   \n1               0             0                    0             0   \n2               0             0                    0             0   \n3               0             0                    0             0   \n4               0             0                    0             1   \n\n   device_mobile  device_computer  device_tablet  returning_user  loc_uk  \\\n0              1                0              0               0       1   \n1              1                0              0               0       1   \n2              1                0              0               1       1   \n3              1                0              0               1       1   \n4              0                0              1               0       1   \n\n   ordered  \n0        0  \n1        0  \n2        0  \n3        0  \n4        1  \n\n[5 rows x 25 columns]",
            "text/html": "<div>\n<style scoped>\n    .dataframe tbody tr th:only-of-type {\n        vertical-align: middle;\n    }\n\n    .dataframe tbody tr th {\n        vertical-align: top;\n    }\n\n    .dataframe thead th {\n        text-align: right;\n    }\n</style>\n<table border=\"1\" class=\"dataframe\">\n  <thead>\n    <tr style=\"text-align: right;\">\n      <th></th>\n      <th>UserID</th>\n      <th>basket_icon_click</th>\n      <th>basket_add_list</th>\n      <th>basket_add_detail</th>\n      <th>sort_by</th>\n      <th>image_picker</th>\n      <th>account_page_click</th>\n      <th>promo_banner_click</th>\n      <th>detail_wishlist_add</th>\n      <th>list_size_dropdown</th>\n      <th>...</th>\n      <th>saw_sizecharts</th>\n      <th>saw_delivery</th>\n      <th>saw_account_upgrade</th>\n      <th>saw_homepage</th>\n      <th>device_mobile</th>\n      <th>device_computer</th>\n      <th>device_tablet</th>\n      <th>returning_user</th>\n      <th>loc_uk</th>\n      <th>ordered</th>\n    </tr>\n  </thead>\n  <tbody>\n    <tr>\n      <th>0</th>\n      <td>a720-6b732349-a720-4862-bd21-644732</td>\n      <td>0</td>\n      <td>0</td>\n      <td>0</td>\n      <td>0</td>\n      <td>0</td>\n      <td>0</td>\n      <td>0</td>\n      <td>0</td>\n      <td>0</td>\n      <td>...</td>\n      <td>0</td>\n      <td>0</td>\n      <td>0</td>\n      <td>0</td>\n      <td>1</td>\n      <td>0</td>\n      <td>0</td>\n      <td>0</td>\n      <td>1</td>\n      <td>0</td>\n    </tr>\n    <tr>\n      <th>1</th>\n      <td>a0c0-6b73247c-a0c0-4bd9-8baa-797356</td>\n      <td>0</td>\n      <td>0</td>\n      <td>0</td>\n      <td>0</td>\n      <td>0</td>\n      <td>0</td>\n      <td>0</td>\n      <td>0</td>\n      <td>0</td>\n      <td>...</td>\n      <td>0</td>\n      <td>0</td>\n      <td>0</td>\n      <td>0</td>\n      <td>1</td>\n      <td>0</td>\n      <td>0</td>\n      <td>0</td>\n      <td>1</td>\n      <td>0</td>\n    </tr>\n    <tr>\n      <th>2</th>\n      <td>86a8-6b735c67-86a8-407b-ba24-333055</td>\n      <td>0</td>\n      <td>0</td>\n      <td>0</td>\n      <td>0</td>\n      <td>0</td>\n      <td>0</td>\n      <td>0</td>\n      <td>0</td>\n      <td>0</td>\n      <td>...</td>\n      <td>0</td>\n      <td>0</td>\n      <td>0</td>\n      <td>0</td>\n      <td>1</td>\n      <td>0</td>\n      <td>0</td>\n      <td>1</td>\n      <td>1</td>\n      <td>0</td>\n    </tr>\n    <tr>\n      <th>3</th>\n      <td>6a3d-6b736346-6a3d-4085-934b-396834</td>\n      <td>0</td>\n      <td>0</td>\n      <td>0</td>\n      <td>0</td>\n      <td>0</td>\n      <td>0</td>\n      <td>0</td>\n      <td>0</td>\n      <td>0</td>\n      <td>...</td>\n      <td>0</td>\n      <td>0</td>\n      <td>0</td>\n      <td>0</td>\n      <td>1</td>\n      <td>0</td>\n      <td>0</td>\n      <td>1</td>\n      <td>1</td>\n      <td>0</td>\n    </tr>\n    <tr>\n      <th>4</th>\n      <td>b74a-6b737717-b74a-45c3-8c6a-421140</td>\n      <td>0</td>\n      <td>1</td>\n      <td>0</td>\n      <td>1</td>\n      <td>0</td>\n      <td>0</td>\n      <td>0</td>\n      <td>0</td>\n      <td>1</td>\n      <td>...</td>\n      <td>0</td>\n      <td>0</td>\n      <td>0</td>\n      <td>1</td>\n      <td>0</td>\n      <td>0</td>\n      <td>1</td>\n      <td>0</td>\n      <td>1</td>\n      <td>1</td>\n    </tr>\n  </tbody>\n</table>\n<p>5 rows × 25 columns</p>\n</div>"
          },
          "metadata": {}
        }
      ],
      "execution_count": 4,
      "metadata": {
        "gather": {
          "logged": 1722918603127
        },
        "jupyter": {
          "outputs_hidden": false,
          "source_hidden": false
        },
        "nteract": {
          "transient": {
            "deleting": false
          }
        }
      }
    },
    {
      "cell_type": "markdown",
      "source": [
        "### Check for Basic data checks"
      ],
      "metadata": {
        "nteract": {
          "transient": {
            "deleting": false
          }
        }
      }
    },
    {
      "cell_type": "code",
      "source": [
        "#Variable info\n",
        "print(df_train.info())"
      ],
      "outputs": [
        {
          "output_type": "stream",
          "name": "stdout",
          "text": "<class 'pandas.core.frame.DataFrame'>\nRangeIndex: 455401 entries, 0 to 455400\nData columns (total 25 columns):\n #   Column                   Non-Null Count   Dtype \n---  ------                   --------------   ----- \n 0   UserID                   455401 non-null  object\n 1   basket_icon_click        455401 non-null  int64 \n 2   basket_add_list          455401 non-null  int64 \n 3   basket_add_detail        455401 non-null  int64 \n 4   sort_by                  455401 non-null  int64 \n 5   image_picker             455401 non-null  int64 \n 6   account_page_click       455401 non-null  int64 \n 7   promo_banner_click       455401 non-null  int64 \n 8   detail_wishlist_add      455401 non-null  int64 \n 9   list_size_dropdown       455401 non-null  int64 \n 10  closed_minibasket_click  455401 non-null  int64 \n 11  checked_delivery_detail  455401 non-null  int64 \n 12  checked_returns_detail   455401 non-null  int64 \n 13  sign_in                  455401 non-null  int64 \n 14  saw_checkout             455401 non-null  int64 \n 15  saw_sizecharts           455401 non-null  int64 \n 16  saw_delivery             455401 non-null  int64 \n 17  saw_account_upgrade      455401 non-null  int64 \n 18  saw_homepage             455401 non-null  int64 \n 19  device_mobile            455401 non-null  int64 \n 20  device_computer          455401 non-null  int64 \n 21  device_tablet            455401 non-null  int64 \n 22  returning_user           455401 non-null  int64 \n 23  loc_uk                   455401 non-null  int64 \n 24  ordered                  455401 non-null  int64 \ndtypes: int64(24), object(1)\nmemory usage: 86.9+ MB\nNone\n"
        }
      ],
      "execution_count": 5,
      "metadata": {
        "gather": {
          "logged": 1722918603415
        },
        "jupyter": {
          "outputs_hidden": false,
          "source_hidden": false
        },
        "nteract": {
          "transient": {
            "deleting": false
          }
        }
      }
    },
    {
      "cell_type": "markdown",
      "source": [
        "### EDA"
      ],
      "metadata": {
        "nteract": {
          "transient": {
            "deleting": false
          }
        }
      }
    },
    {
      "cell_type": "code",
      "source": [
        "import seaborn as sns\n",
        "import matplotlib.pyplot as plt\n",
        "corr = df_train.corr()\n",
        "plt.figure(figsize=(16, 14))\n",
        "sns.heatmap(corr, vmax=0.5, center=0,\n",
        "            square=True, linewidths=2, cmap='Blues')\n",
        "plt.savefig(\"heatmap.png\")\n",
        "plt.show()"
      ],
      "outputs": [
        {
          "output_type": "display_data",
          "data": {
            "text/plain": "<Figure size 1600x1400 with 2 Axes>",
            "image/png": "[encoded data removed]"
          },
          "metadata": {}
        }
      ],
      "execution_count": 6,
      "metadata": {
        "gather": {
          "logged": 1722918609522
        },
        "jupyter": {
          "outputs_hidden": false,
          "source_hidden": false
        },
        "nteract": {
          "transient": {
            "deleting": false
          }
        }
      }
    },
    {
      "cell_type": "code",
      "source": [
        "df_train.corr()['ordered']"
      ],
      "outputs": [
        {
          "output_type": "execute_result",
          "execution_count": 7,
          "data": {
            "text/plain": "basket_icon_click          0.428334\nbasket_add_list            0.287666\nbasket_add_detail          0.414420\nsort_by                    0.054636\nimage_picker               0.071492\naccount_page_click         0.057279\npromo_banner_click         0.056533\ndetail_wishlist_add        0.023516\nlist_size_dropdown         0.154867\nclosed_minibasket_click    0.140011\nchecked_delivery_detail    0.798720\nchecked_returns_detail     0.059484\nsign_in                    0.665556\nsaw_checkout               0.708986\nsaw_sizecharts             0.007548\nsaw_delivery               0.031461\nsaw_account_upgrade        0.025857\nsaw_homepage               0.157778\ndevice_mobile             -0.042907\ndevice_computer            0.049208\ndevice_tablet              0.016939\nreturning_user             0.060295\nloc_uk                     0.031643\nordered                    1.000000\nName: ordered, dtype: float64"
          },
          "metadata": {}
        }
      ],
      "execution_count": 7,
      "metadata": {
        "gather": {
          "logged": 1722918610003
        },
        "jupyter": {
          "outputs_hidden": false,
          "source_hidden": false
        },
        "nteract": {
          "transient": {
            "deleting": false
          }
        }
      }
    },
    {
      "cell_type": "code",
      "source": [
        "# Drop columns with High Corr to avoid Multicollinearity\n",
        "df_train = df_train.drop(['checked_delivery_detail'], axis=1)"
      ],
      "outputs": [],
      "execution_count": 8,
      "metadata": {
        "gather": {
          "logged": 1722918610479
        },
        "jupyter": {
          "outputs_hidden": false,
          "source_hidden": false
        },
        "nteract": {
          "transient": {
            "deleting": false
          }
        }
      }
    },
    {
      "cell_type": "code",
      "source": [
        "df_train.columns"
      ],
      "outputs": [
        {
          "output_type": "execute_result",
          "execution_count": 9,
          "data": {
            "text/plain": "Index(['UserID', 'basket_icon_click', 'basket_add_list', 'basket_add_detail',\n       'sort_by', 'image_picker', 'account_page_click', 'promo_banner_click',\n       'detail_wishlist_add', 'list_size_dropdown', 'closed_minibasket_click',\n       'checked_returns_detail', 'sign_in', 'saw_checkout', 'saw_sizecharts',\n       'saw_delivery', 'saw_account_upgrade', 'saw_homepage', 'device_mobile',\n       'device_computer', 'device_tablet', 'returning_user', 'loc_uk',\n       'ordered'],\n      dtype='object')"
          },
          "metadata": {}
        }
      ],
      "execution_count": 9,
      "metadata": {
        "gather": {
          "logged": 1722918611002
        },
        "jupyter": {
          "outputs_hidden": false,
          "source_hidden": false
        },
        "nteract": {
          "transient": {
            "deleting": false
          }
        }
      }
    },
    {
      "cell_type": "markdown",
      "source": [
        "### Feature Selection\n",
        "- Variance Threshold check\n",
        "- Select k best for top n features"
      ],
      "metadata": {
        "nteract": {
          "transient": {
            "deleting": false
          }
        }
      }
    },
    {
      "cell_type": "code",
      "source": [
        "id_target_col_list = ['ordered', 'UserID']\n",
        "col_for_feature_selection = df_train.columns.difference(id_target_col_list)\n",
        "print(len(col_for_feature_selection))"
      ],
      "outputs": [
        {
          "output_type": "stream",
          "name": "stdout",
          "text": "22\n"
        }
      ],
      "execution_count": 10,
      "metadata": {
        "gather": {
          "logged": 1722918611393
        },
        "jupyter": {
          "outputs_hidden": false,
          "source_hidden": false
        },
        "nteract": {
          "transient": {
            "deleting": false
          }
        }
      }
    },
    {
      "cell_type": "code",
      "source": [
        "from sklearn.feature_selection import VarianceThreshold\n",
        "\n",
        "var_thr = VarianceThreshold(threshold = 0.005) #Removing both constant and quasi-constant\n",
        "var_thr.fit(df_train[col_for_feature_selection])\n",
        "\n",
        "# Get the support mask\n",
        "support = var_thr.get_support()\n",
        "\n",
        "print(\"Support:\", support)"
      ],
      "outputs": [
        {
          "output_type": "stream",
          "name": "stdout",
          "text": "Support: [False  True  True  True  True  True False  True  True  True  True  True\n  True  True  True False  True  True  True False  True  True]\n"
        }
      ],
      "execution_count": 11,
      "metadata": {
        "gather": {
          "logged": 1722918611730
        },
        "jupyter": {
          "outputs_hidden": false,
          "source_hidden": false
        },
        "nteract": {
          "transient": {
            "deleting": false
          }
        }
      }
    },
    {
      "cell_type": "code",
      "source": [
        "# List of columns to be retained\n",
        "print(len(df_train.columns))\n",
        "print('')\n",
        "retained_columns = df_train[col_for_feature_selection].columns[support]\n",
        "\n",
        "# List of columns to be removed\n",
        "remove_col_list = [col for col in col_for_feature_selection if col not in retained_columns]\n",
        "print(\"Columns to be removed:\", remove_col_list)"
      ],
      "outputs": [
        {
          "output_type": "stream",
          "name": "stdout",
          "text": "24\n\nColumns to be removed: ['account_page_click', 'detail_wishlist_add', 'saw_account_upgrade', 'saw_sizecharts']\n"
        }
      ],
      "execution_count": 12,
      "metadata": {
        "gather": {
          "logged": 1722918612080
        },
        "jupyter": {
          "outputs_hidden": false,
          "source_hidden": false
        },
        "nteract": {
          "transient": {
            "deleting": false
          }
        }
      }
    },
    {
      "cell_type": "code",
      "source": [
        "print(df_train.shape)\n",
        "print('')\n",
        "df_train = df_train.drop(remove_col_list, axis=1, errors='ignore')\n",
        "print(df_train.shape)"
      ],
      "outputs": [
        {
          "output_type": "stream",
          "name": "stdout",
          "text": "(455401, 24)\n\n(455401, 20)\n"
        }
      ],
      "execution_count": 13,
      "metadata": {
        "gather": {
          "logged": 1722918612415
        },
        "jupyter": {
          "outputs_hidden": false,
          "source_hidden": false
        },
        "nteract": {
          "transient": {
            "deleting": false
          }
        }
      }
    },
    {
      "cell_type": "code",
      "source": [
        "df_train.columns"
      ],
      "outputs": [
        {
          "output_type": "execute_result",
          "execution_count": 14,
          "data": {
            "text/plain": "Index(['UserID', 'basket_icon_click', 'basket_add_list', 'basket_add_detail',\n       'sort_by', 'image_picker', 'promo_banner_click', 'list_size_dropdown',\n       'closed_minibasket_click', 'checked_returns_detail', 'sign_in',\n       'saw_checkout', 'saw_delivery', 'saw_homepage', 'device_mobile',\n       'device_computer', 'device_tablet', 'returning_user', 'loc_uk',\n       'ordered'],\n      dtype='object')"
          },
          "metadata": {}
        }
      ],
      "execution_count": 14,
      "metadata": {
        "gather": {
          "logged": 1722918612866
        },
        "jupyter": {
          "outputs_hidden": false,
          "source_hidden": false
        },
        "nteract": {
          "transient": {
            "deleting": false
          }
        }
      }
    },
    {
      "cell_type": "markdown",
      "source": [
        "### Feature Selection Using Select K Best"
      ],
      "metadata": {
        "nteract": {
          "transient": {
            "deleting": false
          }
        }
      }
    },
    {
      "cell_type": "code",
      "source": [
        "#Select top n Features\n",
        "from sklearn.feature_selection import SelectKBest\n",
        "from sklearn.feature_selection import f_classif\n",
        "\n",
        "def select_kbest_features(df, target_col,n):\n",
        "  \"\"\"\n",
        "  Selects the top n features from the DataFrame using the SelectKBest algorithm.\n",
        "\n",
        "  Args:\n",
        "    df: The DataFrame to select features from.\n",
        "    n: The number of features to select.\n",
        "\n",
        "  Returns:\n",
        "    A list of the top n features.\n",
        "  \"\"\"\n",
        "\n",
        "\n",
        "  selector = SelectKBest(k=n)\n",
        "  selected_features = selector.fit_transform(df, target_col)\n",
        "  \n",
        "  mask = selector.get_support()\n",
        "  top_n_features = df.columns[mask]\n",
        "\n",
        "  return top_n_features"
      ],
      "outputs": [],
      "execution_count": 15,
      "metadata": {
        "gather": {
          "logged": 1722918613356
        },
        "jupyter": {
          "outputs_hidden": false,
          "source_hidden": false
        },
        "nteract": {
          "transient": {
            "deleting": false
          }
        }
      }
    },
    {
      "cell_type": "code",
      "source": [
        "id_col_list = ['UserID']\n",
        "target_col = df_train['ordered']\n",
        "top_n_col_list = select_kbest_features(df_train.drop(id_col_list,axis=1),target_col, 10)\n",
        "print(len(top_n_col_list))\n",
        "top_n_col_list"
      ],
      "outputs": [
        {
          "output_type": "stream",
          "name": "stdout",
          "text": "10\n"
        },
        {
          "output_type": "stream",
          "name": "stderr",
          "text": "/anaconda/envs/azureml_py38/lib/python3.9/site-packages/sklearn/feature_selection/_univariate_selection.py:111: RuntimeWarning: divide by zero encountered in divide\n  f = msb / msw\n"
        },
        {
          "output_type": "execute_result",
          "execution_count": 16,
          "data": {
            "text/plain": "Index(['basket_icon_click', 'basket_add_list', 'basket_add_detail',\n       'image_picker', 'list_size_dropdown', 'closed_minibasket_click',\n       'sign_in', 'saw_checkout', 'saw_homepage', 'ordered'],\n      dtype='object')"
          },
          "metadata": {}
        }
      ],
      "execution_count": 16,
      "metadata": {
        "gather": {
          "logged": 1722918613743
        },
        "jupyter": {
          "outputs_hidden": false,
          "source_hidden": false
        },
        "nteract": {
          "transient": {
            "deleting": false
          }
        }
      }
    },
    {
      "cell_type": "code",
      "source": [
        "#Convert to list\n",
        "top_n_col_list = top_n_col_list.tolist()\n",
        "\n",
        "type(top_n_col_list)"
      ],
      "outputs": [
        {
          "output_type": "execute_result",
          "execution_count": 17,
          "data": {
            "text/plain": "list"
          },
          "metadata": {}
        }
      ],
      "execution_count": 17,
      "metadata": {
        "gather": {
          "logged": 1722918614106
        },
        "jupyter": {
          "outputs_hidden": false,
          "source_hidden": false
        },
        "nteract": {
          "transient": {
            "deleting": false
          }
        }
      }
    },
    {
      "cell_type": "code",
      "source": [
        "cols_for_model_df_list = id_col_list + top_n_col_list\n",
        "print(len(cols_for_model_df_list))\n",
        "print('')"
      ],
      "outputs": [
        {
          "output_type": "stream",
          "name": "stdout",
          "text": "11\n\n"
        }
      ],
      "execution_count": 18,
      "metadata": {
        "gather": {
          "logged": 1722918614493
        },
        "jupyter": {
          "outputs_hidden": false,
          "source_hidden": false
        },
        "nteract": {
          "transient": {
            "deleting": false
          }
        }
      }
    },
    {
      "cell_type": "code",
      "source": [
        "df_train_feature_eng_output = df_train[cols_for_model_df_list]\n",
        "df_train_feature_eng_output.head()"
      ],
      "outputs": [
        {
          "output_type": "execute_result",
          "execution_count": 19,
          "data": {
            "text/plain": "                                UserID  basket_icon_click  basket_add_list  \\\n0  a720-6b732349-a720-4862-bd21-644732                  0                0   \n1  a0c0-6b73247c-a0c0-4bd9-8baa-797356                  0                0   \n2  86a8-6b735c67-86a8-407b-ba24-333055                  0                0   \n3  6a3d-6b736346-6a3d-4085-934b-396834                  0                0   \n4  b74a-6b737717-b74a-45c3-8c6a-421140                  0                1   \n\n   basket_add_detail  image_picker  list_size_dropdown  \\\n0                  0             0                   0   \n1                  0             0                   0   \n2                  0             0                   0   \n3                  0             0                   0   \n4                  0             0                   1   \n\n   closed_minibasket_click  sign_in  saw_checkout  saw_homepage  ordered  \n0                        0        0             0             0        0  \n1                        0        0             0             0        0  \n2                        0        0             0             0        0  \n3                        0        0             0             0        0  \n4                        0        1             1             1        1  ",
            "text/html": "<div>\n<style scoped>\n    .dataframe tbody tr th:only-of-type {\n        vertical-align: middle;\n    }\n\n    .dataframe tbody tr th {\n        vertical-align: top;\n    }\n\n    .dataframe thead th {\n        text-align: right;\n    }\n</style>\n<table border=\"1\" class=\"dataframe\">\n  <thead>\n    <tr style=\"text-align: right;\">\n      <th></th>\n      <th>UserID</th>\n      <th>basket_icon_click</th>\n      <th>basket_add_list</th>\n      <th>basket_add_detail</th>\n      <th>image_picker</th>\n      <th>list_size_dropdown</th>\n      <th>closed_minibasket_click</th>\n      <th>sign_in</th>\n      <th>saw_checkout</th>\n      <th>saw_homepage</th>\n      <th>ordered</th>\n    </tr>\n  </thead>\n  <tbody>\n    <tr>\n      <th>0</th>\n      <td>a720-6b732349-a720-4862-bd21-644732</td>\n      <td>0</td>\n      <td>0</td>\n      <td>0</td>\n      <td>0</td>\n      <td>0</td>\n      <td>0</td>\n      <td>0</td>\n      <td>0</td>\n      <td>0</td>\n      <td>0</td>\n    </tr>\n    <tr>\n      <th>1</th>\n      <td>a0c0-6b73247c-a0c0-4bd9-8baa-797356</td>\n      <td>0</td>\n      <td>0</td>\n      <td>0</td>\n      <td>0</td>\n      <td>0</td>\n      <td>0</td>\n      <td>0</td>\n      <td>0</td>\n      <td>0</td>\n      <td>0</td>\n    </tr>\n    <tr>\n      <th>2</th>\n      <td>86a8-6b735c67-86a8-407b-ba24-333055</td>\n      <td>0</td>\n      <td>0</td>\n      <td>0</td>\n      <td>0</td>\n      <td>0</td>\n      <td>0</td>\n      <td>0</td>\n      <td>0</td>\n      <td>0</td>\n      <td>0</td>\n    </tr>\n    <tr>\n      <th>3</th>\n      <td>6a3d-6b736346-6a3d-4085-934b-396834</td>\n      <td>0</td>\n      <td>0</td>\n      <td>0</td>\n      <td>0</td>\n      <td>0</td>\n      <td>0</td>\n      <td>0</td>\n      <td>0</td>\n      <td>0</td>\n      <td>0</td>\n    </tr>\n    <tr>\n      <th>4</th>\n      <td>b74a-6b737717-b74a-45c3-8c6a-421140</td>\n      <td>0</td>\n      <td>1</td>\n      <td>0</td>\n      <td>0</td>\n      <td>1</td>\n      <td>0</td>\n      <td>1</td>\n      <td>1</td>\n      <td>1</td>\n      <td>1</td>\n    </tr>\n  </tbody>\n</table>\n</div>"
          },
          "metadata": {}
        }
      ],
      "execution_count": 19,
      "metadata": {
        "gather": {
          "logged": 1722918614861
        },
        "jupyter": {
          "outputs_hidden": false,
          "source_hidden": false
        },
        "nteract": {
          "transient": {
            "deleting": false
          }
        }
      }
    },
    {
      "cell_type": "code",
      "source": [
        "df_train_feature_eng_output['ordered'].value_counts()\n",
        "print('')\n",
        "print(df_train_feature_eng_output['ordered'].value_counts(normalize= True))"
      ],
      "outputs": [
        {
          "output_type": "stream",
          "name": "stdout",
          "text": "\n0    0.958074\n1    0.041926\nName: ordered, dtype: float64\n"
        }
      ],
      "execution_count": 20,
      "metadata": {
        "gather": {
          "logged": 1722918615296
        },
        "jupyter": {
          "outputs_hidden": false,
          "source_hidden": false
        },
        "nteract": {
          "transient": {
            "deleting": false
          }
        }
      }
    },
    {
      "cell_type": "markdown",
      "source": [
        "#### Save the output to Blob storage"
      ],
      "metadata": {
        "nteract": {
          "transient": {
            "deleting": false
          }
        }
      }
    },
    {
      "cell_type": "code",
      "source": [
        "save_dataframe_to_blob(df_train_feature_eng_output,'processed-files','processed_train_df.csv')"
      ],
      "outputs": [
        {
          "output_type": "stream",
          "name": "stdout",
          "text": "Successfully connected to Azure Blob Storage.\nContainer processed-files already exists.\nUploaded processed_train_df.csv to blob storage in container processed-files\n"
        }
      ],
      "execution_count": 21,
      "metadata": {
        "jupyter": {
          "source_hidden": false,
          "outputs_hidden": false
        },
        "nteract": {
          "transient": {
            "deleting": false
          }
        },
        "gather": {
          "logged": 1722918615868
        }
      }
    },
    {
      "cell_type": "markdown",
      "source": [
        "### Processing the Test Data"
      ],
      "metadata": {
        "nteract": {
          "transient": {
            "deleting": false
          }
        }
      }
    },
    {
      "cell_type": "code",
      "source": [
        "blob_name = os.getenv('test_blob_name')\n",
        "df_test = load_dataframe_from_blob(container_name, blob_name)\n",
        "print(df_test.shape)\n",
        "print('')\n",
        "df_test.head()"
      ],
      "outputs": [
        {
          "output_type": "stream",
          "name": "stdout",
          "text": "Successfully connected to Azure Blob Storage.\n(151655, 25)\n\n"
        },
        {
          "output_type": "execute_result",
          "execution_count": 22,
          "data": {
            "text/plain": "                                UserID  basket_icon_click  basket_add_list  \\\n0  9d24-25k4-47889d24-25k4-494b-398124                  0                0   \n1  7732-1k58-47887732-1k58-4475-679678                  0                0   \n2  94k2-632j-471394k2-632j-4b4j-228160                  0                0   \n3  jdd8-419d-4714jdd8-419d-4198-674376                  0                0   \n4  7473-7595-47147473-7595-4757-227547                  0                0   \n\n   basket_add_detail  sort_by  image_picker  account_page_click  \\\n0                  0        0             0                   0   \n1                  0        0             0                   0   \n2                  0        0             0                   0   \n3                  1        0             0                   0   \n4                  0        0             0                   0   \n\n   promo_banner_click  detail_wishlist_add  list_size_dropdown  ...  \\\n0                   0                    0                   0  ...   \n1                   0                    0                   0  ...   \n2                   0                    0                   0  ...   \n3                   0                    0                   0  ...   \n4                   0                    0                   0  ...   \n\n   saw_sizecharts  saw_delivery  saw_account_upgrade  saw_homepage  \\\n0               0             0                    0             0   \n1               0             0                    0             0   \n2               0             0                    0             0   \n3               0             0                    0             0   \n4               0             0                    0             0   \n\n   device_mobile  device_computer  device_tablet  returning_user  loc_uk  \\\n0              1                0              0               0       1   \n1              1                0              0               0       1   \n2              1                0              0               0       1   \n3              1                0              0               0       1   \n4              1                0              0               0       1   \n\n   ordered  \n0        0  \n1        0  \n2        0  \n3        0  \n4        0  \n\n[5 rows x 25 columns]",
            "text/html": "<div>\n<style scoped>\n    .dataframe tbody tr th:only-of-type {\n        vertical-align: middle;\n    }\n\n    .dataframe tbody tr th {\n        vertical-align: top;\n    }\n\n    .dataframe thead th {\n        text-align: right;\n    }\n</style>\n<table border=\"1\" class=\"dataframe\">\n  <thead>\n    <tr style=\"text-align: right;\">\n      <th></th>\n      <th>UserID</th>\n      <th>basket_icon_click</th>\n      <th>basket_add_list</th>\n      <th>basket_add_detail</th>\n      <th>sort_by</th>\n      <th>image_picker</th>\n      <th>account_page_click</th>\n      <th>promo_banner_click</th>\n      <th>detail_wishlist_add</th>\n      <th>list_size_dropdown</th>\n      <th>...</th>\n      <th>saw_sizecharts</th>\n      <th>saw_delivery</th>\n      <th>saw_account_upgrade</th>\n      <th>saw_homepage</th>\n      <th>device_mobile</th>\n      <th>device_computer</th>\n      <th>device_tablet</th>\n      <th>returning_user</th>\n      <th>loc_uk</th>\n      <th>ordered</th>\n    </tr>\n  </thead>\n  <tbody>\n    <tr>\n      <th>0</th>\n      <td>9d24-25k4-47889d24-25k4-494b-398124</td>\n      <td>0</td>\n      <td>0</td>\n      <td>0</td>\n      <td>0</td>\n      <td>0</td>\n      <td>0</td>\n      <td>0</td>\n      <td>0</td>\n      <td>0</td>\n      <td>...</td>\n      <td>0</td>\n      <td>0</td>\n      <td>0</td>\n      <td>0</td>\n      <td>1</td>\n      <td>0</td>\n      <td>0</td>\n      <td>0</td>\n      <td>1</td>\n      <td>0</td>\n    </tr>\n    <tr>\n      <th>1</th>\n      <td>7732-1k58-47887732-1k58-4475-679678</td>\n      <td>0</td>\n      <td>0</td>\n      <td>0</td>\n      <td>0</td>\n      <td>0</td>\n      <td>0</td>\n      <td>0</td>\n      <td>0</td>\n      <td>0</td>\n      <td>...</td>\n      <td>0</td>\n      <td>0</td>\n      <td>0</td>\n      <td>0</td>\n      <td>1</td>\n      <td>0</td>\n      <td>0</td>\n      <td>0</td>\n      <td>1</td>\n      <td>0</td>\n    </tr>\n    <tr>\n      <th>2</th>\n      <td>94k2-632j-471394k2-632j-4b4j-228160</td>\n      <td>0</td>\n      <td>0</td>\n      <td>0</td>\n      <td>0</td>\n      <td>0</td>\n      <td>0</td>\n      <td>0</td>\n      <td>0</td>\n      <td>0</td>\n      <td>...</td>\n      <td>0</td>\n      <td>0</td>\n      <td>0</td>\n      <td>0</td>\n      <td>1</td>\n      <td>0</td>\n      <td>0</td>\n      <td>0</td>\n      <td>1</td>\n      <td>0</td>\n    </tr>\n    <tr>\n      <th>3</th>\n      <td>jdd8-419d-4714jdd8-419d-4198-674376</td>\n      <td>0</td>\n      <td>0</td>\n      <td>1</td>\n      <td>0</td>\n      <td>0</td>\n      <td>0</td>\n      <td>0</td>\n      <td>0</td>\n      <td>0</td>\n      <td>...</td>\n      <td>0</td>\n      <td>0</td>\n      <td>0</td>\n      <td>0</td>\n      <td>1</td>\n      <td>0</td>\n      <td>0</td>\n      <td>0</td>\n      <td>1</td>\n      <td>0</td>\n    </tr>\n    <tr>\n      <th>4</th>\n      <td>7473-7595-47147473-7595-4757-227547</td>\n      <td>0</td>\n      <td>0</td>\n      <td>0</td>\n      <td>0</td>\n      <td>0</td>\n      <td>0</td>\n      <td>0</td>\n      <td>0</td>\n      <td>0</td>\n      <td>...</td>\n      <td>0</td>\n      <td>0</td>\n      <td>0</td>\n      <td>0</td>\n      <td>1</td>\n      <td>0</td>\n      <td>0</td>\n      <td>0</td>\n      <td>1</td>\n      <td>0</td>\n    </tr>\n  </tbody>\n</table>\n<p>5 rows × 25 columns</p>\n</div>"
          },
          "metadata": {}
        }
      ],
      "execution_count": 22,
      "metadata": {
        "jupyter": {
          "source_hidden": false,
          "outputs_hidden": false
        },
        "nteract": {
          "transient": {
            "deleting": false
          }
        },
        "gather": {
          "logged": 1722918616422
        }
      }
    },
    {
      "cell_type": "code",
      "source": [
        "# Drop columns with High Corr to avoid Multicollinearity\n",
        "df_test = df_test.drop(['checked_delivery_detail'], axis=1)\n",
        "print(df_test.shape)"
      ],
      "outputs": [
        {
          "output_type": "stream",
          "name": "stdout",
          "text": "(151655, 24)\n"
        }
      ],
      "execution_count": 23,
      "metadata": {
        "jupyter": {
          "source_hidden": false,
          "outputs_hidden": false
        },
        "nteract": {
          "transient": {
            "deleting": false
          }
        },
        "gather": {
          "logged": 1722918616674
        }
      }
    },
    {
      "cell_type": "code",
      "source": [
        "print(df_test.shape)\n",
        "print('')\n",
        "df_test = df_test.drop(remove_col_list, axis=1, errors='ignore')\n",
        "print(df_test.shape)"
      ],
      "outputs": [
        {
          "output_type": "stream",
          "name": "stdout",
          "text": "(151655, 24)\n\n(151655, 20)\n"
        }
      ],
      "execution_count": 24,
      "metadata": {
        "jupyter": {
          "source_hidden": false,
          "outputs_hidden": false
        },
        "nteract": {
          "transient": {
            "deleting": false
          }
        },
        "gather": {
          "logged": 1722918617064
        }
      }
    },
    {
      "cell_type": "code",
      "source": [
        "df_test_feature_eng_output = df_test[cols_for_model_df_list]\n",
        "df_test_feature_eng_output.head()"
      ],
      "outputs": [
        {
          "output_type": "execute_result",
          "execution_count": 25,
          "data": {
            "text/plain": "                                UserID  basket_icon_click  basket_add_list  \\\n0  9d24-25k4-47889d24-25k4-494b-398124                  0                0   \n1  7732-1k58-47887732-1k58-4475-679678                  0                0   \n2  94k2-632j-471394k2-632j-4b4j-228160                  0                0   \n3  jdd8-419d-4714jdd8-419d-4198-674376                  0                0   \n4  7473-7595-47147473-7595-4757-227547                  0                0   \n\n   basket_add_detail  image_picker  list_size_dropdown  \\\n0                  0             0                   0   \n1                  0             0                   0   \n2                  0             0                   0   \n3                  1             0                   0   \n4                  0             0                   0   \n\n   closed_minibasket_click  sign_in  saw_checkout  saw_homepage  ordered  \n0                        0        0             0             0        0  \n1                        0        0             0             0        0  \n2                        0        0             0             0        0  \n3                        0        0             0             0        0  \n4                        0        0             0             0        0  ",
            "text/html": "<div>\n<style scoped>\n    .dataframe tbody tr th:only-of-type {\n        vertical-align: middle;\n    }\n\n    .dataframe tbody tr th {\n        vertical-align: top;\n    }\n\n    .dataframe thead th {\n        text-align: right;\n    }\n</style>\n<table border=\"1\" class=\"dataframe\">\n  <thead>\n    <tr style=\"text-align: right;\">\n      <th></th>\n      <th>UserID</th>\n      <th>basket_icon_click</th>\n      <th>basket_add_list</th>\n      <th>basket_add_detail</th>\n      <th>image_picker</th>\n      <th>list_size_dropdown</th>\n      <th>closed_minibasket_click</th>\n      <th>sign_in</th>\n      <th>saw_checkout</th>\n      <th>saw_homepage</th>\n      <th>ordered</th>\n    </tr>\n  </thead>\n  <tbody>\n    <tr>\n      <th>0</th>\n      <td>9d24-25k4-47889d24-25k4-494b-398124</td>\n      <td>0</td>\n      <td>0</td>\n      <td>0</td>\n      <td>0</td>\n      <td>0</td>\n      <td>0</td>\n      <td>0</td>\n      <td>0</td>\n      <td>0</td>\n      <td>0</td>\n    </tr>\n    <tr>\n      <th>1</th>\n      <td>7732-1k58-47887732-1k58-4475-679678</td>\n      <td>0</td>\n      <td>0</td>\n      <td>0</td>\n      <td>0</td>\n      <td>0</td>\n      <td>0</td>\n      <td>0</td>\n      <td>0</td>\n      <td>0</td>\n      <td>0</td>\n    </tr>\n    <tr>\n      <th>2</th>\n      <td>94k2-632j-471394k2-632j-4b4j-228160</td>\n      <td>0</td>\n      <td>0</td>\n      <td>0</td>\n      <td>0</td>\n      <td>0</td>\n      <td>0</td>\n      <td>0</td>\n      <td>0</td>\n      <td>0</td>\n      <td>0</td>\n    </tr>\n    <tr>\n      <th>3</th>\n      <td>jdd8-419d-4714jdd8-419d-4198-674376</td>\n      <td>0</td>\n      <td>0</td>\n      <td>1</td>\n      <td>0</td>\n      <td>0</td>\n      <td>0</td>\n      <td>0</td>\n      <td>0</td>\n      <td>0</td>\n      <td>0</td>\n    </tr>\n    <tr>\n      <th>4</th>\n      <td>7473-7595-47147473-7595-4757-227547</td>\n      <td>0</td>\n      <td>0</td>\n      <td>0</td>\n      <td>0</td>\n      <td>0</td>\n      <td>0</td>\n      <td>0</td>\n      <td>0</td>\n      <td>0</td>\n      <td>0</td>\n    </tr>\n  </tbody>\n</table>\n</div>"
          },
          "metadata": {}
        }
      ],
      "execution_count": 25,
      "metadata": {
        "jupyter": {
          "source_hidden": false,
          "outputs_hidden": false
        },
        "nteract": {
          "transient": {
            "deleting": false
          }
        },
        "gather": {
          "logged": 1722918617616
        }
      }
    },
    {
      "cell_type": "code",
      "source": [
        "print(df_test_feature_eng_output['ordered'].value_counts())\n",
        "print('')\n",
        "print(df_test_feature_eng_output['ordered'].value_counts(normalize= True))"
      ],
      "outputs": [
        {
          "output_type": "stream",
          "name": "stdout",
          "text": "0    151655\nName: ordered, dtype: int64\n\n0    1.0\nName: ordered, dtype: float64\n"
        }
      ],
      "execution_count": 26,
      "metadata": {
        "jupyter": {
          "source_hidden": false,
          "outputs_hidden": false
        },
        "nteract": {
          "transient": {
            "deleting": false
          }
        },
        "gather": {
          "logged": 1722918618037
        }
      }
    },
    {
      "cell_type": "markdown",
      "source": [
        "#### Save the output to Blob storage"
      ],
      "metadata": {
        "nteract": {
          "transient": {
            "deleting": false
          }
        }
      }
    },
    {
      "cell_type": "code",
      "source": [
        "save_dataframe_to_blob(df_test_feature_eng_output,'processed-files','processed_test_df.csv')\n"
      ],
      "outputs": [
        {
          "output_type": "stream",
          "name": "stdout",
          "text": "Successfully connected to Azure Blob Storage.\nContainer processed-files already exists.\nUploaded processed_test_df.csv to blob storage in container processed-files\n"
        }
      ],
      "execution_count": 27,
      "metadata": {
        "jupyter": {
          "source_hidden": false,
          "outputs_hidden": false
        },
        "nteract": {
          "transient": {
            "deleting": false
          }
        },
        "gather": {
          "logged": 1722918618294
        }
      }
    }
  ],
  "metadata": {
    "kernel_info": {
      "name": "python38-azureml"
    },
    "kernelspec": {
      "name": "python38-azureml",
      "language": "python",
      "display_name": "Python 3.8 - AzureML"
    },
    "language_info": {
      "name": "python",
      "version": "3.9.19",
      "mimetype": "text/x-python",
      "codemirror_mode": {
        "name": "ipython",
        "version": 3
      },
      "pygments_lexer": "ipython3",
      "nbconvert_exporter": "python",
      "file_extension": ".py"
    },
    "microsoft": {
      "host": {
        "AzureML": {
          "notebookHasBeenCompleted": true
        }
      },
      "ms_spell_check": {
        "ms_spell_check_language": "en"
      }
    },
    "nteract": {
      "version": "nteract-front-end@1.0.0"
    }
  },
  "nbformat": 4,
  "nbformat_minor": 2
}